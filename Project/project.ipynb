{
 "cells": [
  {
   "cell_type": "markdown",
   "metadata": {},
   "source": [
    "# Project Plant Growth Dataset Analysis\n",
    "***"
   ]
  },
  {
   "cell_type": "markdown",
   "metadata": {},
   "source": [
    "### Description\n",
    "This project involves analyzing the PlantGrowth dataset, which includes data on plant weights across three groups: a control group (ctrl) and two treatment groups (trt1 and trt2). The analysis employs statistical techniques such as t-tests and ANOVA to determine if there are significant differences between these groups."
   ]
  },
  {
   "cell_type": "code",
   "execution_count": 1,
   "metadata": {},
   "outputs": [],
   "source": [
    "# Import libs\n",
    "import pandas as pd\n",
    "import scipy.stats as stats\n",
    "import matplotlib.pyplot as plt\n",
    "import seaborn as sns"
   ]
  },
  {
   "cell_type": "markdown",
   "metadata": {},
   "source": [
    "### Block 1: Loading and Initial Data Analysis"
   ]
  },
  {
   "cell_type": "code",
   "execution_count": 2,
   "metadata": {},
   "outputs": [],
   "source": [
    "# Load the data and inspect its structure\n",
    "file_path = 'PlantGrowth.csv'\n",
    "data = pd.read_csv(file_path)\n",
    "data_cleaned = data.drop(columns=['rownames'])  # Remove unnecessary column"
   ]
  },
  {
   "cell_type": "code",
   "execution_count": 3,
   "metadata": {},
   "outputs": [
    {
     "data": {
      "text/html": [
       "<div>\n",
       "<style scoped>\n",
       "    .dataframe tbody tr th:only-of-type {\n",
       "        vertical-align: middle;\n",
       "    }\n",
       "\n",
       "    .dataframe tbody tr th {\n",
       "        vertical-align: top;\n",
       "    }\n",
       "\n",
       "    .dataframe thead th {\n",
       "        text-align: right;\n",
       "    }\n",
       "</style>\n",
       "<table border=\"1\" class=\"dataframe\">\n",
       "  <thead>\n",
       "    <tr style=\"text-align: right;\">\n",
       "      <th></th>\n",
       "      <th>rownames</th>\n",
       "      <th>weight</th>\n",
       "      <th>group</th>\n",
       "    </tr>\n",
       "  </thead>\n",
       "  <tbody>\n",
       "    <tr>\n",
       "      <th>0</th>\n",
       "      <td>1</td>\n",
       "      <td>4.17</td>\n",
       "      <td>ctrl</td>\n",
       "    </tr>\n",
       "    <tr>\n",
       "      <th>1</th>\n",
       "      <td>2</td>\n",
       "      <td>5.58</td>\n",
       "      <td>ctrl</td>\n",
       "    </tr>\n",
       "    <tr>\n",
       "      <th>2</th>\n",
       "      <td>3</td>\n",
       "      <td>5.18</td>\n",
       "      <td>ctrl</td>\n",
       "    </tr>\n",
       "    <tr>\n",
       "      <th>3</th>\n",
       "      <td>4</td>\n",
       "      <td>6.11</td>\n",
       "      <td>ctrl</td>\n",
       "    </tr>\n",
       "    <tr>\n",
       "      <th>4</th>\n",
       "      <td>5</td>\n",
       "      <td>4.50</td>\n",
       "      <td>ctrl</td>\n",
       "    </tr>\n",
       "  </tbody>\n",
       "</table>\n",
       "</div>"
      ],
      "text/plain": [
       "   rownames  weight group\n",
       "0         1    4.17  ctrl\n",
       "1         2    5.58  ctrl\n",
       "2         3    5.18  ctrl\n",
       "3         4    6.11  ctrl\n",
       "4         5    4.50  ctrl"
      ]
     },
     "execution_count": 3,
     "metadata": {},
     "output_type": "execute_result"
    }
   ],
   "source": [
    "# Inspect data\n",
    "data.head()"
   ]
  },
  {
   "cell_type": "code",
   "execution_count": 4,
   "metadata": {},
   "outputs": [
    {
     "name": "stdout",
     "output_type": "stream",
     "text": [
      "Descriptive statistics for each group:\n",
      "        count   mean       std   min     25%    50%     75%   max\n",
      "group                                                           \n",
      "ctrl    10.0  5.032  0.583091  4.17  4.5500  5.155  5.2925  6.11\n",
      "trt1    10.0  4.661  0.793676  3.59  4.2075  4.550  4.8700  6.03\n",
      "trt2    10.0  5.526  0.442573  4.92  5.2675  5.435  5.7350  6.31\n"
     ]
    }
   ],
   "source": [
    "# Descriptive statistics\n",
    "summary = data_cleaned.groupby('group')['weight'].describe()\n",
    "print(\"Descriptive statistics for each group:\\n\", summary)"
   ]
  },
  {
   "cell_type": "markdown",
   "metadata": {},
   "source": [
    "### Conclusion:\n",
    "The data includes three groups: ctrl, trt1, and trt2, each containing 10 observations.\n",
    "The highest mean weight is in group trt2 (5.526), while the lowest is in trt1 (4.661)."
   ]
  },
  {
   "cell_type": "markdown",
   "metadata": {},
   "source": [
    "### Block 2: Visualization of Plant Weight Distribution"
   ]
  },
  {
   "cell_type": "code",
   "execution_count": 5,
   "metadata": {},
   "outputs": [
    {
     "name": "stderr",
     "output_type": "stream",
     "text": [
      "C:\\Users\\Serhii\\AppData\\Local\\Temp\\ipykernel_13596\\1251754556.py:2: FutureWarning: \n",
      "\n",
      "Passing `palette` without assigning `hue` is deprecated and will be removed in v0.14.0. Assign the `x` variable to `hue` and set `legend=False` for the same effect.\n",
      "\n",
      "  sns.boxplot(x='group', y='weight', data=data_cleaned, palette='Set3')\n"
     ]
    },
    {
     "data": {
      "image/png": "[encoded data removed]",
      "text/plain": [
       "<Figure size 640x480 with 1 Axes>"
      ]
     },
     "metadata": {},
     "output_type": "display_data"
    }
   ],
   "source": [
    "# Visualize the distribution of weights across groups\n",
    "sns.boxplot(x='group', y='weight', data=data_cleaned, palette='Set3')\n",
    "plt.title(\"Distribution of Plant Weights by Group\")\n",
    "plt.xlabel('Treatment Group')\n",
    "plt.ylabel('Plant Weight')\n",
    "plt.show()"
   ]
  },
  {
   "cell_type": "markdown",
   "metadata": {},
   "source": [
    "### Conclusion:\n",
    "The groups exhibit different weight distributions. It is evident that the median weight in group trt2 is higher than in other groups."
   ]
  },
  {
   "cell_type": "markdown",
   "metadata": {},
   "source": [
    "### Block 3: Explanation of the t-Test\n",
    "\n",
    "#### T-Test\n",
    "The t-test is used to determine if there is a statistically significant difference between the means of two groups.\n",
    "\n",
    "#### Key Assumptions:\n",
    "1. **Normality**: Data in each group should be approximately normally distributed.\n",
    "2. **Equal Variances**: The variances of the two groups should be roughly equal (for a standard t-test).\n",
    "3. **Independence**: Data between groups should be independent.\n",
    "\n",
    "#### Real-World Example:\n",
    "A t-test can be found in clinical studies where the effectiveness of two different drugs is tested. For instance, determining whether there is a difference in the average reduction in blood pressure between patients receiving Drug A and Drug B."
   ]
  },
  {
   "cell_type": "markdown",
   "metadata": {},
   "source": [
    "#### Block 4: Conducting the t-Test between trt1 and trt2"
   ]
  },
  {
   "cell_type": "code",
   "execution_count": 6,
   "metadata": {},
   "outputs": [],
   "source": [
    "# Separate data for test\n",
    "trt1_weights = data_cleaned[data_cleaned['group'] == 'trt1']['weight']\n",
    "trt2_weights = data_cleaned[data_cleaned['group'] == 'trt2']['weight']"
   ]
  },
  {
   "cell_type": "code",
   "execution_count": 7,
   "metadata": {},
   "outputs": [
    {
     "name": "stdout",
     "output_type": "stream",
     "text": [
      "T-Test Results:\n",
      " T-Statistic: -3.0101, P-Value: 0.0075\n"
     ]
    }
   ],
   "source": [
    "# Perform t-test\n",
    "t_stat, p_value = stats.ttest_ind(trt1_weights, trt2_weights, equal_var=True)\n",
    "print(f\"T-Test Results:\\n T-Statistic: {t_stat:.4f}, P-Value: {p_value:.4f}\")"
   ]
  },
  {
   "cell_type": "markdown",
   "metadata": {},
   "source": [
    "### Conclusion:\n",
    "Results of the t-test indicate whether there is statistically significant difference between the mean values of trt1 and trt2.\n",
    "The next step is to perform ANOVA to analyze more than two groups."
   ]
  }
 ],
 "metadata": {
  "kernelspec": {
   "display_name": "base",
   "language": "python",
   "name": "python3"
  },
  "language_info": {
   "codemirror_mode": {
    "name": "ipython",
    "version": 3
   },
   "file_extension": ".py",
   "mimetype": "text/x-python",
   "name": "python",
   "nbconvert_exporter": "python",
   "pygments_lexer": "ipython3",
   "version": "3.11.9"
  }
 },
 "nbformat": 4,
 "nbformat_minor": 2
}
