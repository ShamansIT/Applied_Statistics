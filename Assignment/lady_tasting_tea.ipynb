{
 "cells": [
  {
   "cell_type": "markdown",
   "metadata": {},
   "source": [
    "# Experiment \"Lady tasting tea\"\n",
    "\n",
    "### Desriprion\n",
    "***\n",
    "In this experiment, the lady claimed to be able to tell the difference between the cups that were first filled with milk and those that were first filled with tea. Her task was to correctly identify 4 cups of milk out of a total of 8 cups. Let's see if her ability to distinguish is a result of skill or just a random guess."
   ]
  },
  {
   "cell_type": "code",
   "execution_count": 13,
   "metadata": {},
   "outputs": [],
   "source": [
    "# Import lib\n",
    "import numpy as np\n",
    "import matplotlib.pyplot as plt\n",
    "from math import comb\n",
    "from scipy import stats\n"
   ]
  },
  {
   "cell_type": "markdown",
   "metadata": {},
   "source": [
    "### Process model building\n",
    "***\n",
    "Model the experiment using statistical methods. \n",
    "Null hypothesis (H0): the lady chooses the cups randomly. Alternative hypothesis (H1): the lady is able to correctly identify the milk cups."
   ]
  },
  {
   "cell_type": "code",
   "execution_count": 14,
   "metadata": {},
   "outputs": [
    {
     "name": "stdout",
     "output_type": "stream",
     "text": [
      "Total number of possible combinations: 70\n"
     ]
    }
   ],
   "source": [
    "# Number of cups with and without milk\n",
    "milk_cups = 4\n",
    "total_cups = 8\n",
    "\n",
    "# Calculation of the number of possible combinations\n",
    "total_combinations = comb(total_cups, milk_cups)\n",
    "print(f'Total number of possible combinations: {total_combinations}')"
   ]
  },
  {
   "cell_type": "code",
   "execution_count": 15,
   "metadata": {},
   "outputs": [
    {
     "name": "stdout",
     "output_type": "stream",
     "text": [
      "Probability of random correct answers (p-value): 0.014285714285714285\n"
     ]
    }
   ],
   "source": [
    "# Probability of correctly identifying all 4 cups (random guess)\n",
    "p_value = 1 / total_combinations\n",
    "print(f'Probability of random correct answers (p-value): {p_value}')"
   ]
  },
  {
   "cell_type": "markdown",
   "metadata": {},
   "source": [
    "#### P-value explanations\n",
    "P-value (probability) is the probability that we will get a result no worse than the one we observe, given that the null hypothesis is true. In our case, this is the probability that the lady randomly identifies all the milk cups correctly."
   ]
  },
  {
   "cell_type": "markdown",
   "metadata": {},
   "source": [
    "#### Hypothetical result of the experiment: how many correct cups did the lady choose?"
   ]
  },
  {
   "cell_type": "code",
   "execution_count": 16,
   "metadata": {},
   "outputs": [
    {
     "name": "stdout",
     "output_type": "stream",
     "text": [
      "Probability of obtaining such a result (p-value): 0.27343749999999994\n"
     ]
    }
   ],
   "source": [
    "correct_choices = 4  # If lady chose all the cups correctly\n",
    "\n",
    "# Using the binomial distribution for hypothesis testing\n",
    "n = total_cups\n",
    "k = correct_choices\n",
    "p_success = 0.5  # Probability of guessing each cup (random guess)\n",
    "\n",
    "# Calculation of probability using the binomial distribution\n",
    "p_value = stats.binom.pmf(k, n, p_success)\n",
    "print(f'Probability of obtaining such a result (p-value): {p_value}')"
   ]
  },
  {
   "cell_type": "code",
   "execution_count": 17,
   "metadata": {},
   "outputs": [
    {
     "data": {
      "image/png": "[encoded data removed]",
      "text/plain": [
       "<Figure size 640x480 with 1 Axes>"
      ]
     },
     "metadata": {},
     "output_type": "display_data"
    }
   ],
   "source": [
    "# Visualisation the probability of the results\n",
    "outcomes = np.arange(0, 9)  # All possible results (0 to 8 correct answers)\n",
    "probabilities = stats.binom.pmf(outcomes, n, p_success)\n",
    "\n",
    "plt.bar(outcomes, probabilities)\n",
    "plt.xlabel('Number of correct answers')\n",
    "plt.ylabel('Probability')\n",
    "plt.title('Probability of guessing the number of correct cups by chance')\n",
    "plt.show()"
   ]
  },
  {
   "cell_type": "markdown",
   "metadata": {},
   "source": [
    "### Conclusion\n",
    "***\n",
    "As a result of the \"Lady Tasting Tea\" experiment, we investigated one of the most famous models of statistical analysis – hypothesis testing using a binemial distribution. The goal was to test whether the lady's ability to correctly identify milk cups was the result of a skill or a random guess.\n",
    "\n",
    "Based on the calculations made, we determined the probability that the lady would correctly guess all the cups by chance (p-value). If this value were less than a critical level (e.g., 0.05), then it would mean that we can reject the null hypothesis and conclude that the lady's true ability is true. In our case, the low probability of a random guess (by the null hypothesis) suggests that the lady probably has the true ability to distinguish the order in which the milk is added.\n",
    "\n",
    "Thus, the analysis showed that it is possible to experimentally confirm or refute the presence of certain skills using statistical tools. This approach allows not only to determine the probabilities of random coincidences, but also to draw informed conclusions about causality and understanding of data in real-world experiments."
   ]
  },
  {
   "cell_type": "markdown",
   "metadata": {},
   "source": [
    "# End\n",
    "***"
   ]
  }
 ],
 "metadata": {
  "kernelspec": {
   "display_name": "base",
   "language": "python",
   "name": "python3"
  },
  "language_info": {
   "codemirror_mode": {
    "name": "ipython",
    "version": 3
   },
   "file_extension": ".py",
   "mimetype": "text/x-python",
   "name": "python",
   "nbconvert_exporter": "python",
   "pygments_lexer": "ipython3",
   "version": "3.11.9"
  }
 },
 "nbformat": 4,
 "nbformat_minor": 2
}
