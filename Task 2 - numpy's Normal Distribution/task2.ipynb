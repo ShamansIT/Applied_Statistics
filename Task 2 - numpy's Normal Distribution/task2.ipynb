{
 "cells": [
  {
   "cell_type": "markdown",
   "metadata": {},
   "source": [
    "# Numpy's Normal Distribution\n",
    "***\n",
    "### Description\n",
    "This task checks whether the **numpy.random.normal()** function correctly generates values ​​from a normal distribution."
   ]
  },
  {
   "cell_type": "code",
   "execution_count": 1,
   "metadata": {},
   "outputs": [],
   "source": [
    "# Import Libs\n",
    "import numpy as np\n",
    "import scipy.stats as stats\n",
    "import matplotlib.pyplot as plt"
   ]
  },
  {
   "cell_type": "markdown",
   "metadata": {},
   "source": [
    "## Define distribution parameters"
   ]
  },
  {
   "cell_type": "code",
   "execution_count": 2,
   "metadata": {},
   "outputs": [
    {
     "data": {
      "text/plain": [
       "array([10.2000916 , 11.2948764 , 12.89354789, ...,  8.29453016,\n",
       "       14.20205686,  8.74375383])"
      ]
     },
     "execution_count": 2,
     "metadata": {},
     "output_type": "execute_result"
    }
   ],
   "source": [
    "mu = 10.0 # mean\n",
    "sigma = 3.0 # standard deviation\n",
    "n = 100000 # sample size\n",
    "\n",
    "# Generate sample from the normal distribution\n",
    "sample = np.random.normal(mu, sigma, n)\n",
    "# Show\n",
    "sample"
   ]
  },
  {
   "cell_type": "markdown",
   "metadata": {},
   "source": [
    "## Shapiro-Wilk Test for Normality"
   ]
  },
  {
   "cell_type": "code",
   "execution_count": 3,
   "metadata": {},
   "outputs": [
    {
     "name": "stdout",
     "output_type": "stream",
     "text": [
      "Test statistic: 0.9995757596492832\n",
      "P-value: 0.357349528125351\n"
     ]
    }
   ],
   "source": [
    "# Using a subsample of 5000 elements due to test limitations\n",
    "subsample = sample[:5000]\n",
    "\n",
    "# Performing the Shapiro-Wilk test\n",
    "statistic, p_value = stats.shapiro(subsample)\n",
    "\n",
    "print(f\"Test statistic: {statistic}\")\n",
    "print(f\"P-value: {p_value}\")"
   ]
  },
  {
   "cell_type": "markdown",
   "metadata": {},
   "source": [
    "# End\n",
    "***"
   ]
  }
 ],
 "metadata": {
  "kernelspec": {
   "display_name": "base",
   "language": "python",
   "name": "python3"
  },
  "language_info": {
   "codemirror_mode": {
    "name": "ipython",
    "version": 3
   },
   "file_extension": ".py",
   "mimetype": "text/x-python",
   "name": "python",
   "nbconvert_exporter": "python",
   "pygments_lexer": "ipython3",
   "version": "3.11.9"
  }
 },
 "nbformat": 4,
 "nbformat_minor": 2
}
