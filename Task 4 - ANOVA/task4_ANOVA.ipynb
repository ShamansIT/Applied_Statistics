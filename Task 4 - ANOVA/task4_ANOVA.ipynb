{
 "cells": [
  {
   "cell_type": "markdown",
   "metadata": {},
   "source": [
    "# ANOVA\n",
    "***"
   ]
  },
  {
   "cell_type": "markdown",
   "metadata": {},
   "source": [
    "### Objective: \n",
    "Main target estimate the probability of a Type II error when performing a one-way ANOVA test under specific conditions. The task involves simulating data, applying statistical tests, and analyzing the results."
   ]
  },
  {
   "cell_type": "code",
   "execution_count": 1,
   "metadata": {},
   "outputs": [],
   "source": [
    "# Import libs\n",
    "import numpy as np\n",
    "from scipy.stats import f_oneway\n",
    "import matplotlib.pyplot as plt"
   ]
  },
  {
   "cell_type": "markdown",
   "metadata": {},
   "source": [
    "### Initialize Variables and Parameters\n",
    "Set up the counter for Type II errors and define the simulation parameters."
   ]
  },
  {
   "cell_type": "code",
   "execution_count": 2,
   "metadata": {},
   "outputs": [],
   "source": [
    "# Initialize variables\n",
    "no_type_ii = 0  # Counter Type II errors\n",
    "n_tests = 10000  # Number of iterations\n",
    "\n",
    "# Parameters for sample generation\n",
    "sample_size = 100  # Number of observations per sample\n",
    "std_dev = 0.1  # Standard deviation for all samples\n",
    "means = [4.9, 5.0, 5.1]  # Means of the three samples"
   ]
  },
  {
   "cell_type": "markdown",
   "metadata": {},
   "source": [
    "In next step needed to perform 10,000 simulations to generate samples and conduct ANOVA."
   ]
  },
  {
   "cell_type": "code",
   "execution_count": 3,
   "metadata": {},
   "outputs": [],
   "source": [
    "# Loop through simulations\n",
    "for _ in range(n_tests):\n",
    "    # Generate three samples with specified means and standard deviation\n",
    "    sample1 = np.random.normal(loc=means[0], scale=std_dev, size=sample_size)\n",
    "    sample2 = np.random.normal(loc=means[1], scale=std_dev, size=sample_size)\n",
    "    sample3 = np.random.normal(loc=means[2], scale=std_dev, size=sample_size)\n",
    "    \n",
    "    # Perform one-way ANOVA\n",
    "    f_stat, p_value = f_oneway(sample1, sample2, sample3)\n",
    "    \n",
    "    # Check for Type II error: p-value > 0.05\n",
    "    if p_value > 0.05:\n",
    "        no_type_ii += 1"
   ]
  },
  {
   "cell_type": "markdown",
   "metadata": {},
   "source": [
    "Three samples are generated in each iteration using np.random.normal, based on the specified means and standard deviation. \n",
    "ANOVA is performed using f_oneway.\n",
    "If the p-value is greater than 0.05, it indicates a failure to reject the null hypothesis, implying potential Type II error."
   ]
  },
  {
   "cell_type": "markdown",
   "metadata": {},
   "source": [
    "### Calculate and Display Type II Error Rate\n",
    "Summarize the results by calculating the error rate and visualizing the distribution."
   ]
  },
  {
   "cell_type": "code",
   "execution_count": 4,
   "metadata": {},
   "outputs": [
    {
     "name": "stdout",
     "output_type": "stream",
     "text": [
      "Total Simulations: 10000\n",
      "Number of Type II Errors: 0\n",
      "Type II Error Rate: 0.0000\n"
     ]
    }
   ],
   "source": [
    "# Calculate Type II error rate\n",
    "type_ii_error_rate = no_type_ii / n_tests\n",
    "\n",
    "# Print results\n",
    "print(f\"Total Simulations: {n_tests}\")\n",
    "print(f\"Number of Type II Errors: {no_type_ii}\")\n",
    "print(f\"Type II Error Rate: {type_ii_error_rate:.4f}\")"
   ]
  },
  {
   "cell_type": "markdown",
   "metadata": {},
   "source": [
    "The error rate is calculated by dividing the number of Type II errors by the total number of tests.\n",
    "Results are displayed, including the total simulations, number of errors, and error rate."
   ]
  },
  {
   "cell_type": "markdown",
   "metadata": {},
   "source": [
    "## Summary\n",
    "The ANOVA test was performed 10,000 times under specified conditions:\n",
    "\n",
    "Mean values: [4.9, 5.0, 5.1]\n",
    "Standard deviation: 0.1\n",
    "Sample size: 100 per group\n",
    "\n",
    "The Type II error rate is displayed, showing how often the null hypothesis was not rejected despite the presence of true differences between groups.\n",
    "\n",
    "### Further Considerations:\n",
    "To reduce the Type II error rate, consider increasing the sample size or reducing variability within samples.\n",
    "Explore alternative statistical tests for higher sensitivity in similar scenarios."
   ]
  },
  {
   "cell_type": "markdown",
   "metadata": {},
   "source": [
    "# End\n",
    "***"
   ]
  }
 ],
 "metadata": {
  "kernelspec": {
   "display_name": "base",
   "language": "python",
   "name": "python3"
  },
  "language_info": {
   "codemirror_mode": {
    "name": "ipython",
    "version": 3
   },
   "file_extension": ".py",
   "mimetype": "text/x-python",
   "name": "python",
   "nbconvert_exporter": "python",
   "pygments_lexer": "ipython3",
   "version": "3.11.9"
  }
 },
 "nbformat": 4,
 "nbformat_minor": 2
}
