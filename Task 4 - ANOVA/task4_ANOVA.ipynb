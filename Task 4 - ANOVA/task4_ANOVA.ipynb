{
 "cells": [
  {
   "cell_type": "markdown",
   "metadata": {},
   "source": [
    "# ANOVA\n",
    "***"
   ]
  },
  {
   "cell_type": "markdown",
   "metadata": {},
   "source": [
    "### Objective: \n",
    "Main target estimate the probability of a Type II error when performing a one-way ANOVA test under specific conditions. The task involves simulating data, applying statistical tests, and analyzing the results."
   ]
  },
  {
   "cell_type": "code",
   "execution_count": 17,
   "metadata": {},
   "outputs": [],
   "source": [
    "# Import libs\n",
    "import numpy as np\n",
    "from scipy.stats import f_oneway"
   ]
  },
  {
   "cell_type": "markdown",
   "metadata": {},
   "source": [
    "### Initialize Variables and Parameters\n",
    "Set up the counter for Type II errors and define the simulation parameters."
   ]
  },
  {
   "cell_type": "code",
   "execution_count": 18,
   "metadata": {},
   "outputs": [],
   "source": [
    "# Initialize variables\n",
    "no_type_ii = 0  # Counter Type II errors\n",
    "n_tests = 10000  # Number of iterations\n",
    "\n",
    "# Parameters for sample generation\n",
    "sample_size = 100  # Number of observations per sample\n",
    "std_dev = 0.1  # Standard deviation for all samples\n",
    "means = [4.9, 5.0, 5.1]  # Means of the three samples"
   ]
  },
  {
   "cell_type": "markdown",
   "metadata": {},
   "source": [
    "In next step needed to perform 10,000 simulations to generate samples and conduct ANOVA."
   ]
  },
  {
   "cell_type": "code",
   "execution_count": 19,
   "metadata": {},
   "outputs": [],
   "source": [
    "# Loop through simulations\n",
    "for _ in range(n_tests):\n",
    "    # Generate three samples with specified means and standard deviation\n",
    "    sample1 = np.random.normal(loc=means[0], scale=std_dev, size=sample_size)\n",
    "    sample2 = np.random.normal(loc=means[1], scale=std_dev, size=sample_size)\n",
    "    sample3 = np.random.normal(loc=means[2], scale=std_dev, size=sample_size)\n",
    "    \n",
    "    # Perform one-way ANOVA\n",
    "    f_stat, p_value = f_oneway(sample1, sample2, sample3)\n",
    "    \n",
    "    # Check for Type II error: p-value > 0.05\n",
    "    if p_value > 0.05:\n",
    "        no_type_ii += 1"
   ]
  },
  {
   "cell_type": "markdown",
   "metadata": {},
   "source": [
    "# End\n",
    "***"
   ]
  }
 ],
 "metadata": {
  "kernelspec": {
   "display_name": "Python 3",
   "language": "python",
   "name": "python3"
  },
  "language_info": {
   "codemirror_mode": {
    "name": "ipython",
    "version": 3
   },
   "file_extension": ".py",
   "mimetype": "text/x-python",
   "name": "python",
   "nbconvert_exporter": "python",
   "pygments_lexer": "ipython3",
   "version": "3.11.9"
  }
 },
 "nbformat": 4,
 "nbformat_minor": 2
}
