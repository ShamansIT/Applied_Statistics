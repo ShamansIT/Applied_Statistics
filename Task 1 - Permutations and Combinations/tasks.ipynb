{
 "cells": [
  {
   "cell_type": "markdown",
   "metadata": {},
   "source": [
    "# Permutations and Combinations\n",
    "***\n",
    "### Description\n",
    "This project performs probability analysis using combinatorics methods to solve a modified experiment reminiscent of \"Lady Tasting Tea\". The problem uses 12 cups of tea: 6 of them with milk added first and 6 with tea added initially. The challenge is to calculate the probability that a person will correctly identify all 6 cups of milk added initially, as well as the probability of making one or two mistakes."
   ]
  },
  {
   "cell_type": "code",
   "execution_count": 7,
   "metadata": {},
   "outputs": [],
   "source": [
    "# Import lib\n",
    "from math import comb"
   ]
  },
  {
   "cell_type": "markdown",
   "metadata": {},
   "source": [
    "The comb function from the math module is used to compute binomial coefficients."
   ]
  },
  {
   "cell_type": "code",
   "execution_count": 8,
   "metadata": {},
   "outputs": [
    {
     "name": "stdout",
     "output_type": "stream",
     "text": [
      "Total number of combinations: 924\n"
     ]
    }
   ],
   "source": [
    "# Total number of combinations\n",
    "total_combinations = comb(12, 6)\n",
    "print(f\"Total number of combinations: {total_combinations}\")"
   ]
  },
  {
   "cell_type": "markdown",
   "metadata": {},
   "source": [
    "The total number of possible combinations to select 6 cups out of 12 is equale 924.\n",
    "The total number of combinations shows how many possible sets can be made from 12 cups by selecting 6. This will allow to calculate probabilities for specific situations."
   ]
  },
  {
   "cell_type": "code",
   "execution_count": 9,
   "metadata": {},
   "outputs": [
    {
     "name": "stdout",
     "output_type": "stream",
     "text": [
      "The probability of guessing all 6 cups: 0.0010822511\n"
     ]
    }
   ],
   "source": [
    "# The probability of guessing all 6 cups\n",
    "favorable_combinations_all_correct = 1\n",
    "probability_all_correct = favorable_combinations_all_correct / total_combinations\n",
    "print(f\"The probability of guessing all 6 cups: {probability_all_correct:.10f}\")"
   ]
  },
  {
   "cell_type": "markdown",
   "metadata": {},
   "source": [
    "The probability that all 6 cups will be guessed is calculated. Since there is only one combination where all the cups are correctly guessed, the probability is defined as the ratio of one favorable case to the total number of combinations.\n",
    "\n",
    "The probability of guessing all 6 cups is very low, which is confirmed by the result. This shows that randomly guessing all the correct cups is almost impossible."
   ]
  },
  {
   "cell_type": "code",
   "execution_count": 10,
   "metadata": {},
   "outputs": [
    {
     "name": "stdout",
     "output_type": "stream",
     "text": [
      "Number of Ways to Guess Exactly 5 Correct Cups: 36\n"
     ]
    }
   ],
   "source": [
    "# Number of Ways to Guess Exactly 5 Correct Cups\n",
    "ways_five_correct = comb(6, 5) * comb(6, 1)\n",
    "print(f\"Number of Ways to Guess Exactly 5 Correct Cups: {ways_five_correct}\")"
   ]
  },
  {
   "cell_type": "markdown",
   "metadata": {},
   "source": [
    "It calculates the number of ways in which you can guess exactly 5 correct cups out of 6. First, choose 5 correct cups out of 6 and then add one wrong cup out of the remaining 6.\n",
    "\n",
    "The number of ways to guess the 5 correct cups is much greater than the number of ways to guess all 6 correct ones. This makes it easier to calculate the probability for situations like this."
   ]
  },
  {
   "cell_type": "markdown",
   "metadata": {},
   "source": [
    "\n",
    "\n",
    "\n"
   ]
  },
  {
   "cell_type": "markdown",
   "metadata": {},
   "source": [
    "# End\n",
    "***"
   ]
  }
 ],
 "metadata": {
  "kernelspec": {
   "display_name": "base",
   "language": "python",
   "name": "python3"
  },
  "language_info": {
   "codemirror_mode": {
    "name": "ipython",
    "version": 3
   },
   "file_extension": ".py",
   "mimetype": "text/x-python",
   "name": "python",
   "nbconvert_exporter": "python",
   "pygments_lexer": "ipython3",
   "version": "3.11.9"
  }
 },
 "nbformat": 4,
 "nbformat_minor": 2
}
