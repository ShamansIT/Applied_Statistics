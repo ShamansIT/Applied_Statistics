{
 "cells": [
  {
   "cell_type": "markdown",
   "metadata": {},
   "source": [
    "# Experiment \"Lady tasting tea\"\n",
    "\n",
    "### Desriprion\n",
    "***\n",
    "In this experiment, the lady claimed to be able to tell the difference between the cups that were first filled with milk and those that were first filled with tea. Her task was to correctly identify 4 cups of milk out of a total of 8 cups. Let's see if her ability to distinguish is a result of skill or just a random guess."
   ]
  },
  {
   "cell_type": "code",
   "execution_count": 7,
   "metadata": {},
   "outputs": [],
   "source": [
    "# Import lib\n",
    "from math import comb\n",
    "from scipy import stats"
   ]
  },
  {
   "cell_type": "markdown",
   "metadata": {},
   "source": [
    "### Process model building\n",
    "***\n",
    "Model the experiment using statistical methods. \n",
    "Null hypothesis (H0): the lady chooses the cups randomly. Alternative hypothesis (H1): the lady is able to correctly identify the milk cups."
   ]
  },
  {
   "cell_type": "code",
   "execution_count": 8,
   "metadata": {},
   "outputs": [
    {
     "name": "stdout",
     "output_type": "stream",
     "text": [
      "Total number of possible combinations: 70\n"
     ]
    }
   ],
   "source": [
    "# Number of cups with and without milk\n",
    "milk_cups = 4\n",
    "total_cups = 8\n",
    "\n",
    "# Calculation of the number of possible combinations\n",
    "total_combinations = comb(total_cups, milk_cups)\n",
    "print(f'Total number of possible combinations: {total_combinations}')"
   ]
  },
  {
   "cell_type": "code",
   "execution_count": 9,
   "metadata": {},
   "outputs": [
    {
     "name": "stdout",
     "output_type": "stream",
     "text": [
      "Probability of random correct answers (p-value): 0.014285714285714285\n"
     ]
    }
   ],
   "source": [
    "# Probability of correctly identifying all 4 cups (random guess)\n",
    "p_value = 1 / total_combinations\n",
    "print(f'Probability of random correct answers (p-value): {p_value}')"
   ]
  },
  {
   "cell_type": "markdown",
   "metadata": {},
   "source": [
    "#### P-value explanations\n",
    "P-value (probability) is the probability that we will get a result no worse than the one we observe, given that the null hypothesis is true. In our case, this is the probability that the lady randomly identifies all the milk cups correctly."
   ]
  },
  {
   "cell_type": "markdown",
   "metadata": {},
   "source": [
    "#### Hypothetical result of the experiment: how many correct cups did the lady choose?"
   ]
  },
  {
   "cell_type": "code",
   "execution_count": 11,
   "metadata": {},
   "outputs": [
    {
     "name": "stdout",
     "output_type": "stream",
     "text": [
      "Probability of obtaining such a result (p-value): 0.27343749999999994\n"
     ]
    }
   ],
   "source": [
    "correct_choices = 4  # If lady chose all the cups correctly\n",
    "\n",
    "# Using the binomial distribution for hypothesis testing\n",
    "n = total_cups\n",
    "k = correct_choices\n",
    "p_success = 0.5  # Probability of guessing each cup (random guess)\n",
    "\n",
    "# Calculation of probability using the binomial distribution\n",
    "p_value = stats.binom.pmf(k, n, p_success)\n",
    "print(f'Probability of obtaining such a result (p-value): {p_value}')"
   ]
  }
 ],
 "metadata": {
  "kernelspec": {
   "display_name": "base",
   "language": "python",
   "name": "python3"
  },
  "language_info": {
   "codemirror_mode": {
    "name": "ipython",
    "version": 3
   },
   "file_extension": ".py",
   "mimetype": "text/x-python",
   "name": "python",
   "nbconvert_exporter": "python",
   "pygments_lexer": "ipython3",
   "version": "3.11.9"
  }
 },
 "nbformat": 4,
 "nbformat_minor": 2
}
