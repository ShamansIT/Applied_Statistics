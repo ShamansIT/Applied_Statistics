{
 "cells": [
  {
   "cell_type": "markdown",
   "metadata": {},
   "source": [
    "# t-Test Calculation\n",
    "***"
   ]
  },
  {
   "cell_type": "markdown",
   "metadata": {},
   "source": [
    "### Objective: \n",
    "Calculate the t-statistic for the resting heart rates of patients before and after a two-week exercise program."
   ]
  },
  {
   "cell_type": "code",
   "execution_count": 1,
   "metadata": {},
   "outputs": [],
   "source": [
    "## Import labs\n",
    "import numpy as np\n",
    "from scipy import stats"
   ]
  },
  {
   "cell_type": "markdown",
   "metadata": {},
   "source": [
    "### Preparing the Data\n",
    " Initialize two arrays, before and after, which represent the resting heart rates of patients before and after the exercise program. "
   ]
  },
  {
   "cell_type": "code",
   "execution_count": 2,
   "metadata": {},
   "outputs": [],
   "source": [
    "# Data for heart rates before and after exercise program\n",
    "before = np.array([63, 68, 70, 64, 74, 67, 70, 57, 66, 65])\n",
    "after = np.array([64, 64, 68, 64, 73, 70, 72, 54, 61, 63])\n",
    "\n",
    "# Calculating difference in heart rates before and after\n",
    "diff = before - after"
   ]
  },
  {
   "cell_type": "markdown",
   "metadata": {},
   "source": [
    "The difference in heart rates (diff) is then calculated to assess the effect of the program on each patient."
   ]
  },
  {
   "cell_type": "markdown",
   "metadata": {},
   "source": [
    "### Calculating the t-statistic Manually"
   ]
  },
  {
   "cell_type": "code",
   "execution_count": 3,
   "metadata": {},
   "outputs": [
    {
     "name": "stdout",
     "output_type": "stream",
     "text": [
      "Manual t-statistic: 1.3372274824806283\n"
     ]
    }
   ],
   "source": [
    "# Calculate mean of the differences\n",
    "mean_diff = np.mean(diff)\n",
    "\n",
    "# Calculate standard deviation of the differences\n",
    "std_diff = np.std(diff, ddof=1) \n",
    "\n",
    "# Calculate number of observations\n",
    "n = len(diff)\n",
    "\n",
    "t_statistic_manual = mean_diff / (std_diff / np.sqrt(n))\n",
    "print(f\"Manual t-statistic: {t_statistic_manual}\")"
   ]
  },
  {
   "cell_type": "markdown",
   "metadata": {},
   "source": [
    "Сalculation mean and standard deviation of the differences between the two data sets, which are needed for the t-statistic calculation. The formula for the paired t-test is:\n",
    "\n",
    "$$\n",
    "t = \\frac{\\text{mean difference}}{\\text{standard deviation of the difference} / \\sqrt{n}}\n",
    "$$\n",
    "\n",
    "where \\( n \\) is the number of observations. This value is printed as the manual t-statistic."
   ]
  },
  {
   "cell_type": "markdown",
   "metadata": {},
   "source": [
    "### Calculating the t-statistic Using"
   ]
  },
  {
   "cell_type": "code",
   "execution_count": 4,
   "metadata": {},
   "outputs": [
    {
     "name": "stdout",
     "output_type": "stream",
     "text": [
      "SciPy t-statistic: 1.337227482480628\n",
      "P-value: 0.21396011317404623\n"
     ]
    }
   ],
   "source": [
    "# Using scipy to calculate the t-statistic\n",
    "t_statistic_scipy, p_value = stats.ttest_rel(before, after)\n",
    "print(f\"SciPy t-statistic: {t_statistic_scipy}\")\n",
    "print(f\"P-value: {p_value}\")"
   ]
  }
 ],
 "metadata": {
  "kernelspec": {
   "display_name": "base",
   "language": "python",
   "name": "python3"
  },
  "language_info": {
   "codemirror_mode": {
    "name": "ipython",
    "version": 3
   },
   "file_extension": ".py",
   "mimetype": "text/x-python",
   "name": "python",
   "nbconvert_exporter": "python",
   "pygments_lexer": "ipython3",
   "version": "3.11.9"
  }
 },
 "nbformat": 4,
 "nbformat_minor": 2
}
